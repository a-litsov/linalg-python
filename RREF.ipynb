{
 "cells": [
  {
   "cell_type": "markdown",
   "metadata": {},
   "source": [
    "# Reduced Row Echelong Form (RREF) primer"
   ]
  },
  {
   "cell_type": "code",
   "execution_count": 1,
   "metadata": {},
   "outputs": [],
   "source": [
    "import numpy as np # For random matrix generation\n",
    "import sympy as sp"
   ]
  },
  {
   "cell_type": "markdown",
   "metadata": {},
   "source": [
    "### Generate random 2-dim (matrix-like) array using numpy:\n",
    "\n",
    "**Two ways** currently I am aware of:\n",
    "* numpy.random.rand(m, n) - m x n matrix with random *real* elements\n",
    "* numpy.random.randint(high, size=(m, n)) - m x n matrix of *integers* from half-interval [0, high)\n",
    "\n",
    "#### Let's use second way for simplicity"
   ]
  },
  {
   "cell_type": "code",
   "execution_count": 2,
   "metadata": {},
   "outputs": [
    {
     "data": {
      "text/plain": [
       "array([[43, 11, 36, 17],\n",
       "       [41,  3, 42, 44],\n",
       "       [ 7, 14, 48, 45]])"
      ]
     },
     "execution_count": 2,
     "metadata": {},
     "output_type": "execute_result"
    }
   ],
   "source": [
    "NPSource = np.random.randint(50, size=(3, 4)) # random 3x3 matrix of integers from range [0, 50)\n",
    "NPSource"
   ]
  },
  {
   "cell_type": "markdown",
   "metadata": {},
   "source": [
    "Now we will **convert** 2-dim numpy array **to sympy matrix**:"
   ]
  },
  {
   "cell_type": "code",
   "execution_count": 3,
   "metadata": {},
   "outputs": [
    {
     "data": {
      "text/plain": [
       "Matrix([\n",
       "[43, 11, 36, 17],\n",
       "[41,  3, 42, 44],\n",
       "[ 7, 14, 48, 45]])"
      ]
     },
     "execution_count": 3,
     "metadata": {},
     "output_type": "execute_result"
    }
   ],
   "source": [
    "A = sp.Matrix(NPSource)\n",
    "A"
   ]
  },
  {
   "cell_type": "markdown",
   "metadata": {},
   "source": [
    "# RREF"
   ]
  },
  {
   "cell_type": "markdown",
   "metadata": {},
   "source": [
    "We are using sympy **Matrix.rref()** method here to obtain reduced row echelon form:"
   ]
  },
  {
   "cell_type": "code",
   "execution_count": 4,
   "metadata": {},
   "outputs": [
    {
     "data": {
      "text/plain": [
       "(Matrix([\n",
       " [1, 0, 0, -1221/2933],\n",
       " [0, 1, 0, -6070/2933],\n",
       " [0, 0, 1,  4027/2514]]), (0, 1, 2))"
      ]
     },
     "execution_count": 4,
     "metadata": {},
     "output_type": "execute_result"
    }
   ],
   "source": [
    "A.rref()"
   ]
  },
  {
   "cell_type": "markdown",
   "metadata": {},
   "source": [
    "Numbers right to matrix in RREF are positions of **pivots**."
   ]
  },
  {
   "cell_type": "markdown",
   "metadata": {},
   "source": [
    "# Upper triangular form"
   ]
  },
  {
   "cell_type": "markdown",
   "metadata": {},
   "source": [
    "We call upper triangular matrix here not only square matrices but also non-square $A^{mxn}$ where $A_{ij}=0, \\forall i > j$"
   ]
  },
  {
   "cell_type": "code",
   "execution_count": 5,
   "metadata": {},
   "outputs": [
    {
     "data": {
      "text/plain": [
       "array([[43.        , 11.        , 36.        , 17.        ],\n",
       "       [ 0.        , 12.20930233, 42.13953488, 42.23255814],\n",
       "       [ 0.        ,  0.        , 33.52      , 53.69333333]])"
      ]
     },
     "execution_count": 5,
     "metadata": {},
     "output_type": "execute_result"
    }
   ],
   "source": [
    "import scipy.linalg as splinalg\n",
    "P, L, U = splinalg.lu(NPSource)\n",
    "U"
   ]
  }
 ],
 "metadata": {
  "kernelspec": {
   "display_name": "Python 3",
   "language": "python",
   "name": "python3"
  },
  "language_info": {
   "codemirror_mode": {
    "name": "ipython",
    "version": 3
   },
   "file_extension": ".py",
   "mimetype": "text/x-python",
   "name": "python",
   "nbconvert_exporter": "python",
   "pygments_lexer": "ipython3",
   "version": "3.7.1"
  }
 },
 "nbformat": 4,
 "nbformat_minor": 2
}
