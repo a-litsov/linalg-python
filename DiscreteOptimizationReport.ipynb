{
 "cells": [
  {
   "cell_type": "markdown",
   "metadata": {},
   "source": [
    "# Определители соответствующих базисных подматриц для невырожденных баз\n",
    "## C/К: Дискретная оптимизация\n",
    "\n",
    "Нейминг - Дана матрица $A^{3x5}$, переменная $A_{i}A_{j}A_{k}$ соответствует минору матрицы A, составленного из i, j и k столбцов."
   ]
  },
  {
   "cell_type": "code",
   "execution_count": 1,
   "metadata": {},
   "outputs": [],
   "source": [
    "import numpy as np"
   ]
  },
  {
   "cell_type": "code",
   "execution_count": 5,
   "metadata": {},
   "outputs": [
    {
     "data": {
      "text/plain": [
       "[[1, 1, 0], [0, -1, 1], [1, 0, -1]]"
      ]
     },
     "execution_count": 5,
     "metadata": {},
     "output_type": "execute_result"
    }
   ],
   "source": [
    "A1A2A3 = [[1, 1, 0], [0, -1, 1], [1, 0, -1]]\n",
    "A1A2A3"
   ]
  },
  {
   "cell_type": "code",
   "execution_count": 6,
   "metadata": {},
   "outputs": [
    {
     "data": {
      "text/plain": [
       "2.0"
      ]
     },
     "execution_count": 6,
     "metadata": {},
     "output_type": "execute_result"
    }
   ],
   "source": [
    "np.linalg.det(A1A2A3)"
   ]
  },
  {
   "cell_type": "code",
   "execution_count": 8,
   "metadata": {},
   "outputs": [
    {
     "data": {
      "text/plain": [
       "[[1, 1, 2], [0, -1, 0], [1, 0, 1]]"
      ]
     },
     "execution_count": 8,
     "metadata": {},
     "output_type": "execute_result"
    }
   ],
   "source": [
    "A1A2A4 = [[1, 1, 2], [0, -1, 0], [1, 0, 1]]\n",
    "A1A2A4"
   ]
  },
  {
   "cell_type": "code",
   "execution_count": 9,
   "metadata": {},
   "outputs": [
    {
     "data": {
      "text/plain": [
       "1.0"
      ]
     },
     "execution_count": 9,
     "metadata": {},
     "output_type": "execute_result"
    }
   ],
   "source": [
    "np.linalg.det(A1A2A4)"
   ]
  },
  {
   "cell_type": "code",
   "execution_count": 11,
   "metadata": {},
   "outputs": [
    {
     "data": {
      "text/plain": [
       "[[1, 2, 0], [-1, 0, 2], [0, 1, -2]]"
      ]
     },
     "execution_count": 11,
     "metadata": {},
     "output_type": "execute_result"
    }
   ],
   "source": [
    "A2A4A5 = [[1, 2, 0], [-1, 0, 2], [0, 1, -2]]\n",
    "A2A4A5"
   ]
  },
  {
   "cell_type": "code",
   "execution_count": 12,
   "metadata": {},
   "outputs": [
    {
     "data": {
      "text/plain": [
       "-6.0"
      ]
     },
     "execution_count": 12,
     "metadata": {},
     "output_type": "execute_result"
    }
   ],
   "source": [
    "np.linalg.det(A2A4A5)"
   ]
  },
  {
   "cell_type": "code",
   "execution_count": 13,
   "metadata": {},
   "outputs": [
    {
     "data": {
      "text/plain": [
       "[[1, 0, 2], [-1, 1, 0], [0, -1, 1]]"
      ]
     },
     "execution_count": 13,
     "metadata": {},
     "output_type": "execute_result"
    }
   ],
   "source": [
    "A2A3A4 = [[1, 0, 2], [-1, 1, 0], [0, -1, 1]]\n",
    "A2A3A4"
   ]
  },
  {
   "cell_type": "code",
   "execution_count": 14,
   "metadata": {},
   "outputs": [
    {
     "data": {
      "text/plain": [
       "3.0000000000000004"
      ]
     },
     "execution_count": 14,
     "metadata": {},
     "output_type": "execute_result"
    }
   ],
   "source": [
    "np.linalg.det(A2A3A4)"
   ]
  },
  {
   "cell_type": "code",
   "execution_count": 15,
   "metadata": {},
   "outputs": [
    {
     "data": {
      "text/plain": [
       "[[1, 2, 0], [0, 0, 2], [1, 1, -2]]"
      ]
     },
     "execution_count": 15,
     "metadata": {},
     "output_type": "execute_result"
    }
   ],
   "source": [
    "A1A4A5 = [[1, 2, 0], [0, 0, 2], [1, 1, -2]]\n",
    "A1A4A5"
   ]
  },
  {
   "cell_type": "code",
   "execution_count": 16,
   "metadata": {},
   "outputs": [
    {
     "data": {
      "text/plain": [
       "2.0"
      ]
     },
     "execution_count": 16,
     "metadata": {},
     "output_type": "execute_result"
    }
   ],
   "source": [
    "np.linalg.det(A1A4A5)"
   ]
  },
  {
   "cell_type": "code",
   "execution_count": 17,
   "metadata": {},
   "outputs": [
    {
     "data": {
      "text/plain": [
       "[[1, 0, 2], [0, 1, 0], [1, -1, 1]]"
      ]
     },
     "execution_count": 17,
     "metadata": {},
     "output_type": "execute_result"
    }
   ],
   "source": [
    "A1A3A4 = [[1, 0, 2], [0, 1, 0], [1, -1, 1]]\n",
    "A1A3A4"
   ]
  },
  {
   "cell_type": "code",
   "execution_count": 19,
   "metadata": {},
   "outputs": [
    {
     "data": {
      "text/plain": [
       "-1.0"
      ]
     },
     "execution_count": 19,
     "metadata": {},
     "output_type": "execute_result"
    }
   ],
   "source": [
    "np.linalg.det(A1A3A4)"
   ]
  },
  {
   "cell_type": "code",
   "execution_count": 20,
   "metadata": {},
   "outputs": [
    {
     "data": {
      "text/plain": [
       "[[1, 1, 0], [0, -1, 2], [1, 0, -2]]"
      ]
     },
     "execution_count": 20,
     "metadata": {},
     "output_type": "execute_result"
    }
   ],
   "source": [
    "A1A2A5 = [[1, 1, 0], [0, -1, 2], [1, 0, -2]]\n",
    "A1A2A5"
   ]
  },
  {
   "cell_type": "code",
   "execution_count": 21,
   "metadata": {},
   "outputs": [
    {
     "data": {
      "text/plain": [
       "4.0"
      ]
     },
     "execution_count": 21,
     "metadata": {},
     "output_type": "execute_result"
    }
   ],
   "source": [
    "np.linalg.det(A1A2A5)"
   ]
  },
  {
   "cell_type": "code",
   "execution_count": 23,
   "metadata": {},
   "outputs": [
    {
     "data": {
      "image/png": "[encoded data removed]",
      "text/plain": [
       "<Figure size 432x288 with 1 Axes>"
      ]
     },
     "metadata": {},
     "output_type": "display_data"
    }
   ],
   "source": [
    "from mpl_toolkits.mplot3d import Axes3D\n",
    "import matplotlib.pyplot as plt\n",
    "\n",
    "fig = plt.figure()\n",
    "ax = fig.add_subplot(111, projection='3d')\n",
    "x = y = np.arange(-10.0, 10.0)\n",
    "X, Y = np.meshgrid(x, y)\n",
    "z1 = (3-3*Y-2*X)/4.0\n",
    "z2 = (-3*X-3*Y)/2.0\n",
    "\n",
    "ax.plot_surface(X, Y, z1)\n",
    "ax.plot_surface(X, Y, z2)\n",
    "ax.set_xlabel('X Label')\n",
    "ax.set_ylabel('Y Label')\n",
    "ax.set_zlabel('Z Label')\n",
    "plt.show()"
   ]
  },
  {
   "cell_type": "markdown",
   "metadata": {},
   "source": [
    "## Матрица $A(x, y, z; m, n)$"
   ]
  },
  {
   "cell_type": "code",
   "execution_count": 28,
   "metadata": {},
   "outputs": [],
   "source": [
    "import sympy as sp\n",
    "sp.init_printing(use_unicode=True)\n",
    "x, y, z, m, n, lamda = sp.symbols('x, y, z, m, n, lambda')"
   ]
  },
  {
   "cell_type": "code",
   "execution_count": 43,
   "metadata": {},
   "outputs": [
    {
     "data": {
      "text/latex": [
       "$$\\left[\\begin{matrix}x & y & z\\\\m & - n & m\\\\n & m & - n\\end{matrix}\\right]$$"
      ],
      "text/plain": [
       "⎡x  y   z ⎤\n",
       "⎢         ⎥\n",
       "⎢m  -n  m ⎥\n",
       "⎢         ⎥\n",
       "⎣n  m   -n⎦"
      ]
     },
     "execution_count": 43,
     "metadata": {},
     "output_type": "execute_result"
    }
   ],
   "source": [
    "Axyzmn = sp.Matrix([[x, y, z], [m, -n, m], [n, m, -n]])\n",
    "Axyzmn"
   ]
  },
  {
   "cell_type": "markdown",
   "metadata": {},
   "source": [
    "## Определитель $A$"
   ]
  },
  {
   "cell_type": "code",
   "execution_count": 58,
   "metadata": {},
   "outputs": [
    {
     "data": {
      "image/png": "[encoded data removed]",
      "text/latex": [
       "$$2 m n y + x \\left(- m^{2} + n^{2}\\right) + z \\left(m^{2} + n^{2}\\right)$$"
      ],
      "text/plain": [
       "            ⎛   2    2⎞     ⎛ 2    2⎞\n",
       "2⋅m⋅n⋅y + x⋅⎝- m  + n ⎠ + z⋅⎝m  + n ⎠"
      ]
     },
     "execution_count": 58,
     "metadata": {},
     "output_type": "execute_result"
    }
   ],
   "source": [
    "AxyzmnDet = Axyzmn.det()\n",
    "sp.collect(AxyzmnDet, [x, y, z])"
   ]
  },
  {
   "cell_type": "markdown",
   "metadata": {},
   "source": [
    "## Характеристический многочлен $A$"
   ]
  },
  {
   "cell_type": "code",
   "execution_count": 72,
   "metadata": {},
   "outputs": [
    {
     "data": {
      "image/png": "[encoded data removed]",
      "text/latex": [
       "$$\\lambda^{3} + \\lambda^{2} \\left(2 n - x\\right) + \\lambda \\left(- m^{2} - m y + n^{2} - 2 n x - n z\\right) + m^{2} x - m^{2} z - 2 m n y - n^{2} x - n^{2} z$$"
      ],
      "text/plain": [
       " 3    2               ⎛   2          2              ⎞    2      2             \n",
       "λ  + λ ⋅(2⋅n - x) + λ⋅⎝- m  - m⋅y + n  - 2⋅n⋅x - n⋅z⎠ + m ⋅x - m ⋅z - 2⋅m⋅n⋅y \n",
       "\n",
       "   2      2  \n",
       "- n ⋅x - n ⋅z"
      ]
     },
     "execution_count": 72,
     "metadata": {},
     "output_type": "execute_result"
    }
   ],
   "source": [
    "charPolynomial = Axyzmn.charpoly(lamda)\n",
    "charPolynomialFactored = sp.factor(charPolynomial)\n",
    "sp.collect(charPolynomialFactored, lamda)"
   ]
  },
  {
   "cell_type": "markdown",
   "metadata": {},
   "source": [
    "## Присоединённая матрица $A_{adj}$"
   ]
  },
  {
   "cell_type": "code",
   "execution_count": 31,
   "metadata": {},
   "outputs": [
    {
     "data": {
      "text/latex": [
       "$$\\left[\\begin{matrix}- m^{2} + n^{2} & m z + n y & m y + n z\\\\2 m n & - n x - n z & - m x + m z\\\\m^{2} + n^{2} & - m x + n y & - m y - n x\\end{matrix}\\right]$$"
      ],
      "text/plain": [
       "⎡   2    2                        ⎤\n",
       "⎢- m  + n   m⋅z + n⋅y   m⋅y + n⋅z ⎥\n",
       "⎢                                 ⎥\n",
       "⎢  2⋅m⋅n    -n⋅x - n⋅z  -m⋅x + m⋅z⎥\n",
       "⎢                                 ⎥\n",
       "⎢  2    2                         ⎥\n",
       "⎣ m  + n    -m⋅x + n⋅y  -m⋅y - n⋅x⎦"
      ]
     },
     "execution_count": 31,
     "metadata": {},
     "output_type": "execute_result"
    }
   ],
   "source": [
    "AxyzmnAdj = Axyzmn.adjugate()\n",
    "AxyzmnAdj"
   ]
  },
  {
   "cell_type": "markdown",
   "metadata": {},
   "source": [
    "## Определитель $A_{adj}$"
   ]
  },
  {
   "cell_type": "code",
   "execution_count": 70,
   "metadata": {},
   "outputs": [
    {
     "data": {
      "image/png": "[encoded data removed]",
      "text/latex": [
       "$$m n \\left(2 \\left(- m x + n y\\right) \\left(m y + n z\\right) - 2 \\left(- m y - n x\\right) \\left(m z + n y\\right)\\right) + \\left(- m^{2} + n^{2}\\right) \\left(- \\left(- m x + m z\\right) \\left(- m x + n y\\right) + \\left(- m y - n x\\right) \\left(- n x - n z\\right)\\right) + \\left(m^{2} + n^{2}\\right) \\left(\\left(- m x + m z\\right) \\left(m z + n y\\right) - \\left(m y + n z\\right) \\left(- n x - n z\\right)\\right)$$"
      ],
      "text/plain": [
       "                                                                ⎛   2    2⎞   \n",
       "m⋅n⋅(2⋅(-m⋅x + n⋅y)⋅(m⋅y + n⋅z) - 2⋅(-m⋅y - n⋅x)⋅(m⋅z + n⋅y)) + ⎝- m  + n ⎠⋅(-\n",
       "\n",
       "                                                         ⎛ 2    2⎞            \n",
       "(-m⋅x + m⋅z)⋅(-m⋅x + n⋅y) + (-m⋅y - n⋅x)⋅(-n⋅x - n⋅z)) + ⎝m  + n ⎠⋅((-m⋅x + m⋅\n",
       "\n",
       "                                          \n",
       "z)⋅(m⋅z + n⋅y) - (m⋅y + n⋅z)⋅(-n⋅x - n⋅z))"
      ]
     },
     "execution_count": 70,
     "metadata": {},
     "output_type": "execute_result"
    }
   ],
   "source": [
    "AxyzmnAdjDet = AxyzmnAdj.det()\n",
    "sp.collect(AxyzmnAdjDet, [-m**2+n**2, 2*m*n, m**2+n**2])"
   ]
  },
  {
   "cell_type": "markdown",
   "metadata": {},
   "source": [
    "## Характеристический многочлен $A_{adj}$"
   ]
  },
  {
   "cell_type": "code",
   "execution_count": 73,
   "metadata": {},
   "outputs": [
    {
     "data": {
      "image/png": "[encoded data removed]",
      "text/latex": [
       "$$\\lambda^{3} + \\lambda^{2} \\left(m^{2} + m y - n^{2} + 2 n x + n z\\right) + \\lambda \\left(2 m^{2} n x - 2 m^{2} n z - m^{2} x^{2} + m^{2} x z - 4 m n^{2} y + 2 m n x y - 2 n^{3} x - 2 n^{3} z + n^{2} x^{2} + n^{2} x z\\right) - m^{4} x^{2} + 2 m^{4} x z - m^{4} z^{2} + 4 m^{3} n x y - 4 m^{3} n y z + 2 m^{2} n^{2} x^{2} - 4 m^{2} n^{2} y^{2} - 2 m^{2} n^{2} z^{2} - 4 m n^{3} x y - 4 m n^{3} y z - n^{4} x^{2} - 2 n^{4} x z - n^{4} z^{2}$$"
      ],
      "text/plain": [
       " 3    2 ⎛ 2          2              ⎞     ⎛   2          2        2  2    2   \n",
       "λ  + λ ⋅⎝m  + m⋅y - n  + 2⋅n⋅x + n⋅z⎠ + λ⋅⎝2⋅m ⋅n⋅x - 2⋅m ⋅n⋅z - m ⋅x  + m ⋅x⋅\n",
       "\n",
       "         2                    3        3      2  2    2    ⎞    4  2      4   \n",
       "z - 4⋅m⋅n ⋅y + 2⋅m⋅n⋅x⋅y - 2⋅n ⋅x - 2⋅n ⋅z + n ⋅x  + n ⋅x⋅z⎠ - m ⋅x  + 2⋅m ⋅x⋅\n",
       "\n",
       "     4  2      3            3            2  2  2      2  2  2      2  2  2    \n",
       "z - m ⋅z  + 4⋅m ⋅n⋅x⋅y - 4⋅m ⋅n⋅y⋅z + 2⋅m ⋅n ⋅x  - 4⋅m ⋅n ⋅y  - 2⋅m ⋅n ⋅z  - 4\n",
       "\n",
       "    3            3        4  2      4        4  2\n",
       "⋅m⋅n ⋅x⋅y - 4⋅m⋅n ⋅y⋅z - n ⋅x  - 2⋅n ⋅x⋅z - n ⋅z "
      ]
     },
     "execution_count": 73,
     "metadata": {},
     "output_type": "execute_result"
    }
   ],
   "source": [
    "adjCharPolynomial = AxyzmnAdj.charpoly(lamda)\n",
    "adjCharPolynomialFactored = sp.factor(adjCharPolynomial)\n",
    "sp.collect(adjCharPolynomialFactored, lamda)"
   ]
  }
 ],
 "metadata": {
  "kernelspec": {
   "display_name": "Python 3",
   "language": "python",
   "name": "python3"
  },
  "language_info": {
   "codemirror_mode": {
    "name": "ipython",
    "version": 3
   },
   "file_extension": ".py",
   "mimetype": "text/x-python",
   "name": "python",
   "nbconvert_exporter": "python",
   "pygments_lexer": "ipython3",
   "version": "3.7.1"
  }
 },
 "nbformat": 4,
 "nbformat_minor": 2
}
